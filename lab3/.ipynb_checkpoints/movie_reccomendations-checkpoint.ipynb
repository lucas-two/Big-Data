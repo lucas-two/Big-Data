{
 "cells": [
  {
   "cell_type": "markdown",
   "metadata": {},
   "source": [
    "# Movie Reccomendations"
   ]
  },
  {
   "cell_type": "markdown",
   "metadata": {},
   "source": [
    "helpful video: https://www.youtube.com/watch?v=umSM8rFtVMs"
   ]
  },
  {
   "cell_type": "code",
   "execution_count": 53,
   "metadata": {},
   "outputs": [],
   "source": [
    "# Importing libraries\n",
    "import pandas as pd\n",
    "import numpy as np\n",
    "import math\n",
    "from sklearn.feature_extraction.text import CountVectorizer\n",
    "from sklearn.metrics.pairwise import cosine_similarity"
   ]
  },
  {
   "cell_type": "code",
   "execution_count": 4,
   "metadata": {},
   "outputs": [],
   "source": [
    "# Importing data\n",
    "df_users = pd.read_csv(\"users.csv\")\n",
    "df_movies = pd.read_csv('movies.csv', encoding='latin-1') # Had to use special encoding for this to fix an error\n",
    "df_ratings = pd.read_csv(\"ratings.csv\")"
   ]
  },
  {
   "cell_type": "code",
   "execution_count": 5,
   "metadata": {},
   "outputs": [
    {
     "data": {
      "text/html": [
       "<div>\n",
       "<style scoped>\n",
       "    .dataframe tbody tr th:only-of-type {\n",
       "        vertical-align: middle;\n",
       "    }\n",
       "\n",
       "    .dataframe tbody tr th {\n",
       "        vertical-align: top;\n",
       "    }\n",
       "\n",
       "    .dataframe thead th {\n",
       "        text-align: right;\n",
       "    }\n",
       "</style>\n",
       "<table border=\"1\" class=\"dataframe\">\n",
       "  <thead>\n",
       "    <tr style=\"text-align: right;\">\n",
       "      <th></th>\n",
       "      <th>user_id</th>\n",
       "      <th>gender</th>\n",
       "      <th>age</th>\n",
       "      <th>occupation</th>\n",
       "      <th>zipcode</th>\n",
       "      <th>age_desc</th>\n",
       "      <th>occ_desc</th>\n",
       "    </tr>\n",
       "  </thead>\n",
       "  <tbody>\n",
       "    <tr>\n",
       "      <th>0</th>\n",
       "      <td>1</td>\n",
       "      <td>F</td>\n",
       "      <td>1</td>\n",
       "      <td>10</td>\n",
       "      <td>48067</td>\n",
       "      <td>Under 18</td>\n",
       "      <td>K-12 student</td>\n",
       "    </tr>\n",
       "    <tr>\n",
       "      <th>1</th>\n",
       "      <td>2</td>\n",
       "      <td>M</td>\n",
       "      <td>56</td>\n",
       "      <td>16</td>\n",
       "      <td>70072</td>\n",
       "      <td>56+</td>\n",
       "      <td>self-employed</td>\n",
       "    </tr>\n",
       "    <tr>\n",
       "      <th>2</th>\n",
       "      <td>3</td>\n",
       "      <td>M</td>\n",
       "      <td>25</td>\n",
       "      <td>15</td>\n",
       "      <td>55117</td>\n",
       "      <td>25-34</td>\n",
       "      <td>scientist</td>\n",
       "    </tr>\n",
       "    <tr>\n",
       "      <th>3</th>\n",
       "      <td>4</td>\n",
       "      <td>M</td>\n",
       "      <td>45</td>\n",
       "      <td>7</td>\n",
       "      <td>2460</td>\n",
       "      <td>45-49</td>\n",
       "      <td>executive/managerial</td>\n",
       "    </tr>\n",
       "    <tr>\n",
       "      <th>4</th>\n",
       "      <td>5</td>\n",
       "      <td>M</td>\n",
       "      <td>25</td>\n",
       "      <td>20</td>\n",
       "      <td>55455</td>\n",
       "      <td>25-34</td>\n",
       "      <td>writer</td>\n",
       "    </tr>\n",
       "  </tbody>\n",
       "</table>\n",
       "</div>"
      ],
      "text/plain": [
       "   user_id gender  age  occupation  zipcode  age_desc              occ_desc\n",
       "0        1      F    1          10    48067  Under 18          K-12 student\n",
       "1        2      M   56          16    70072       56+         self-employed\n",
       "2        3      M   25          15    55117     25-34             scientist\n",
       "3        4      M   45           7     2460     45-49  executive/managerial\n",
       "4        5      M   25          20    55455     25-34                writer"
      ]
     },
     "execution_count": 5,
     "metadata": {},
     "output_type": "execute_result"
    }
   ],
   "source": [
    "df_users.head()"
   ]
  },
  {
   "cell_type": "code",
   "execution_count": 47,
   "metadata": {},
   "outputs": [
    {
     "data": {
      "text/html": [
       "<div>\n",
       "<style scoped>\n",
       "    .dataframe tbody tr th:only-of-type {\n",
       "        vertical-align: middle;\n",
       "    }\n",
       "\n",
       "    .dataframe tbody tr th {\n",
       "        vertical-align: top;\n",
       "    }\n",
       "\n",
       "    .dataframe thead th {\n",
       "        text-align: right;\n",
       "    }\n",
       "</style>\n",
       "<table border=\"1\" class=\"dataframe\">\n",
       "  <thead>\n",
       "    <tr style=\"text-align: right;\">\n",
       "      <th></th>\n",
       "      <th>user_id</th>\n",
       "      <th>movie_id</th>\n",
       "      <th>rating</th>\n",
       "    </tr>\n",
       "  </thead>\n",
       "  <tbody>\n",
       "    <tr>\n",
       "      <th>0</th>\n",
       "      <td>1</td>\n",
       "      <td>1</td>\n",
       "      <td>3</td>\n",
       "    </tr>\n",
       "    <tr>\n",
       "      <th>1</th>\n",
       "      <td>1</td>\n",
       "      <td>3</td>\n",
       "      <td>5</td>\n",
       "    </tr>\n",
       "    <tr>\n",
       "      <th>2</th>\n",
       "      <td>1</td>\n",
       "      <td>4</td>\n",
       "      <td>4</td>\n",
       "    </tr>\n",
       "    <tr>\n",
       "      <th>3</th>\n",
       "      <td>1</td>\n",
       "      <td>5</td>\n",
       "      <td>3</td>\n",
       "    </tr>\n",
       "    <tr>\n",
       "      <th>4</th>\n",
       "      <td>1</td>\n",
       "      <td>6</td>\n",
       "      <td>3</td>\n",
       "    </tr>\n",
       "  </tbody>\n",
       "</table>\n",
       "</div>"
      ],
      "text/plain": [
       "   user_id  movie_id  rating\n",
       "0        1         1       3\n",
       "1        1         3       5\n",
       "2        1         4       4\n",
       "3        1         5       3\n",
       "4        1         6       3"
      ]
     },
     "execution_count": 47,
     "metadata": {},
     "output_type": "execute_result"
    }
   ],
   "source": [
    "df_ratings.head()"
   ]
  },
  {
   "cell_type": "code",
   "execution_count": 7,
   "metadata": {},
   "outputs": [
    {
     "data": {
      "text/html": [
       "<div>\n",
       "<style scoped>\n",
       "    .dataframe tbody tr th:only-of-type {\n",
       "        vertical-align: middle;\n",
       "    }\n",
       "\n",
       "    .dataframe tbody tr th {\n",
       "        vertical-align: top;\n",
       "    }\n",
       "\n",
       "    .dataframe thead th {\n",
       "        text-align: right;\n",
       "    }\n",
       "</style>\n",
       "<table border=\"1\" class=\"dataframe\">\n",
       "  <thead>\n",
       "    <tr style=\"text-align: right;\">\n",
       "      <th></th>\n",
       "      <th>movie_id</th>\n",
       "      <th>title</th>\n",
       "      <th>genres</th>\n",
       "    </tr>\n",
       "  </thead>\n",
       "  <tbody>\n",
       "    <tr>\n",
       "      <th>0</th>\n",
       "      <td>1</td>\n",
       "      <td>Toy Story (1995)</td>\n",
       "      <td>Animation|Children's|Comedy</td>\n",
       "    </tr>\n",
       "    <tr>\n",
       "      <th>1</th>\n",
       "      <td>2</td>\n",
       "      <td>Jumanji (1995)</td>\n",
       "      <td>Adventure|Children's|Fantasy</td>\n",
       "    </tr>\n",
       "    <tr>\n",
       "      <th>2</th>\n",
       "      <td>3</td>\n",
       "      <td>Grumpier Old Men (1995)</td>\n",
       "      <td>Comedy|Romance</td>\n",
       "    </tr>\n",
       "    <tr>\n",
       "      <th>3</th>\n",
       "      <td>4</td>\n",
       "      <td>Waiting to Exhale (1995)</td>\n",
       "      <td>Comedy|Drama</td>\n",
       "    </tr>\n",
       "    <tr>\n",
       "      <th>4</th>\n",
       "      <td>5</td>\n",
       "      <td>Father of the Bride Part II (1995)</td>\n",
       "      <td>Comedy</td>\n",
       "    </tr>\n",
       "  </tbody>\n",
       "</table>\n",
       "</div>"
      ],
      "text/plain": [
       "   movie_id                               title                        genres\n",
       "0         1                    Toy Story (1995)   Animation|Children's|Comedy\n",
       "1         2                      Jumanji (1995)  Adventure|Children's|Fantasy\n",
       "2         3             Grumpier Old Men (1995)                Comedy|Romance\n",
       "3         4            Waiting to Exhale (1995)                  Comedy|Drama\n",
       "4         5  Father of the Bride Part II (1995)                        Comedy"
      ]
     },
     "execution_count": 7,
     "metadata": {},
     "output_type": "execute_result"
    }
   ],
   "source": [
    "df_movies.head()"
   ]
  },
  {
   "cell_type": "markdown",
   "metadata": {},
   "source": [
    "## Content-Based Reccomendation Model\n",
    "* Find list of used genres which is used to category the movies\n",
    "* Vectorize the relationship between movies and genres and put them into Ij.\n",
    "* Vectorize the relationship between users and genres and put them into Uj (if user rate for a movie, he/she has the related history with the movies’ genres).\n",
    "* Compute the cosine_similarity between movies and users"
   ]
  },
  {
   "cell_type": "code",
   "execution_count": 8,
   "metadata": {},
   "outputs": [],
   "source": [
    "# Copy list of genres that aren't NaN\n",
    "df_genres = df_movies['genres'].dropna()"
   ]
  },
  {
   "cell_type": "code",
   "execution_count": 9,
   "metadata": {},
   "outputs": [],
   "source": [
    "# Find set of all genres\n",
    "genres_set = []\n",
    "\n",
    "for g in df_genres:\n",
    "    g_list = g.split('|')\n",
    "    for i in g_list:\n",
    "        genres_set.append(i)\n",
    "\n",
    "genres_set = set(genres_set)"
   ]
  },
  {
   "cell_type": "code",
   "execution_count": 10,
   "metadata": {},
   "outputs": [
    {
     "name": "stdout",
     "output_type": "stream",
     "text": [
      "{'Action', 'Romance', \"Children's\", 'Comedy', 'Drama', 'Adventure', 'Musical', 'War', 'Crime', 'Fantasy', 'Horror', 'Documentary', 'Animation', 'Thriller', 'Sci-Fi'}\n"
     ]
    }
   ],
   "source": [
    "# Display our genres\n",
    "print(genres_set)"
   ]
  },
  {
   "cell_type": "code",
   "execution_count": 11,
   "metadata": {
    "scrolled": true
   },
   "outputs": [
    {
     "name": "stdout",
     "output_type": "stream",
     "text": [
      "Movie Genre Matrix (first 4 rows):\n",
      "[0, 0, 1, 1, 0, 0, 0, 0, 0, 0, 0, 0, 1, 0, 0]\n",
      "[0, 0, 1, 0, 0, 1, 0, 0, 0, 1, 0, 0, 0, 0, 0]\n",
      "[0, 1, 0, 1, 0, 0, 0, 0, 0, 0, 0, 0, 0, 0, 0]\n",
      "[0, 0, 0, 1, 1, 0, 0, 0, 0, 0, 0, 0, 0, 0, 0]\n"
     ]
    }
   ],
   "source": [
    "# Vectorizing relationship between movies and genres\n",
    "movie_genre_matrix = []\n",
    "\n",
    "# Loop through each movies' string of genres\n",
    "for movie_genres in df_movies['genres']:\n",
    "    \n",
    "    row = []\n",
    "    \n",
    "    # Loop through our 15 genres\n",
    "    for genre in genres_set:\n",
    "        \n",
    "        # If null -> 0\n",
    "        if pd.isnull(movie_genres):\n",
    "            row.append(0)\n",
    "        \n",
    "        # If the genre is found in the set -> 1\n",
    "        elif genre in movie_genres.split('|'):\n",
    "            row.append(1)\n",
    "        \n",
    "        # If the genre is not found in the set -> 0\n",
    "        else:\n",
    "            row.append(0)\n",
    "    \n",
    "    # Add the row to our matrix\n",
    "    movie_genre_matrix.append(row)\n",
    "\n",
    "\n",
    "# Print the relationship matrix\n",
    "print(\"Movie Genre Matrix (first 4 rows):\")\n",
    "for row in movie_genre_matrix[:4]:\n",
    "    print(row)\n"
   ]
  },
  {
   "cell_type": "code",
   "execution_count": 48,
   "metadata": {
    "scrolled": true
   },
   "outputs": [
    {
     "name": "stdout",
     "output_type": "stream",
     "text": [
      "User Genre Matrix (first 4 rows):\n",
      "[1, 1, 1, 1, 1, 1, 1, 0, 1, 1, 1, 1, 1, 1, 1]\n",
      "[1, 1, 1, 1, 1, 1, 0, 1, 1, 1, 1, 1, 1, 1, 1]\n",
      "[1, 1, 1, 1, 1, 1, 1, 1, 1, 1, 1, 1, 1, 1, 1]\n",
      "[1, 1, 1, 1, 1, 1, 1, 0, 1, 1, 1, 1, 1, 1, 1]\n"
     ]
    }
   ],
   "source": [
    "# Vectorizing relationship between users and genres\n",
    "\n",
    "user_genre_matrix = []\n",
    "\n",
    "# Loop through all users (there are 100)\n",
    "for user in df_users['user_id']:\n",
    "    \n",
    "    # Create a blank list the size of our genre set\n",
    "    user_row = [0 for i in range(len(genres_set))]\n",
    "    \n",
    "    # Get us the rating records belonging to our current user\n",
    "    user_records = df_ratings.loc[df_ratings['user_id'] == user].values\n",
    "    \n",
    "    # Loop through each rating record\n",
    "    for record in user_records:\n",
    "    \n",
    "        current_movie_id = record[1] # movie our user has seen\n",
    "        movie_record = df_movies.loc[df_movies['movie_id'] == current_movie_id].values\n",
    "        movie_genres = movie_record[0][2] # genres of the movie\n",
    "        \n",
    "        # Collect all genres for the movie and update the user row accordingly\n",
    "        for index, genre in enumerate(genres_set):\n",
    "            \n",
    "            # Skip NaN values\n",
    "            if pd.isnull(movie_genres):\n",
    "                continue\n",
    "            \n",
    "            # Update row if we find a genre\n",
    "            if genre in movie_genres.split('|'):\n",
    "                user_row[index] = 1\n",
    "                \n",
    "    # Append our row            \n",
    "    user_genre_matrix.append(user_row)\n",
    "        \n",
    "# Print the relationship matrix\n",
    "print(\"User Genre Matrix (first 4 rows):\")\n",
    "for row in user_genre_matrix[:4]:\n",
    "    print(row)"
   ]
  },
  {
   "cell_type": "markdown",
   "metadata": {},
   "source": [
    "I'm hoping I've done the above User Genre matrix correctly. My aim was to ask \"What movies has this user seen?\" and from that \"What genres out of all these movies has the user seen?\""
   ]
  },
  {
   "cell_type": "code",
   "execution_count": 56,
   "metadata": {},
   "outputs": [
    {
     "name": "stdout",
     "output_type": "stream",
     "text": [
      "[[0.46291005 0.46291005 0.4472136  ... 0.46291005 0.4472136  0.4472136 ]\n",
      " [0.46291005 0.46291005 0.4472136  ... 0.46291005 0.4472136  0.4472136 ]\n",
      " [0.37796447 0.37796447 0.36514837 ... 0.37796447 0.36514837 0.36514837]\n",
      " ...\n",
      " [0.37796447 0.37796447 0.36514837 ... 0.37796447 0.36514837 0.36514837]\n",
      " [0.26726124 0.26726124 0.25819889 ... 0.26726124 0.25819889 0.25819889]\n",
      " [0.37796447 0.37796447 0.36514837 ... 0.37796447 0.36514837 0.36514837]]\n"
     ]
    }
   ],
   "source": [
    "# Calculating cosine_similarity between movies and users.\n",
    "cos_sim = cosine_similarity(movie_genre_matrix, user_genre_matrix)\n",
    "\n",
    "print(cos_sim)"
   ]
  },
  {
   "cell_type": "markdown",
   "metadata": {},
   "source": [
    "## Collaborative Filtering Recommendation Model by Users\n",
    "* Use train_test_split to split above dataset with the ratio 50/50. The test dataset will be used as groundtruth to evaluate the rating calculated by using the train dataset.\n",
    "* Create matrix for users, movies and ratings in both training and testing datasets.\n",
    "* Calculate the user correlation.\n",
    "* Implement a predict based on user correlation coefficient.\n",
    "* Predict on train dataset and compare the RMSE with the test dataset."
   ]
  },
  {
   "cell_type": "code",
   "execution_count": null,
   "metadata": {},
   "outputs": [],
   "source": []
  },
  {
   "cell_type": "markdown",
   "metadata": {},
   "source": [
    "## Collaborative Filtering Recommendation Model by Items\n",
    "* Calculate the item correlation.\n",
    "* Implement function to predict ratings based on Item Similarity.\n",
    "* Predict on train dataset and compare the RMSE with the test dataset.\n",
    "* Compare the results between User-based and Item-based. Make conclusion."
   ]
  }
 ],
 "metadata": {
  "kernelspec": {
   "display_name": "Python 3",
   "language": "python",
   "name": "python3"
  },
  "language_info": {
   "codemirror_mode": {
    "name": "ipython",
    "version": 3
   },
   "file_extension": ".py",
   "mimetype": "text/x-python",
   "name": "python",
   "nbconvert_exporter": "python",
   "pygments_lexer": "ipython3",
   "version": "3.7.6"
  }
 },
 "nbformat": 4,
 "nbformat_minor": 2
}
