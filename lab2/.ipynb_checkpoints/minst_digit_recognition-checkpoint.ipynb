{
 "cells": [
  {
   "cell_type": "markdown",
   "metadata": {},
   "source": [
    "# MINST Digit Recognition (Classification)"
   ]
  },
  {
   "cell_type": "code",
   "execution_count": 21,
   "metadata": {
    "collapsed": true
   },
   "outputs": [],
   "source": [
    "# Importing libraries\n",
    "import matplotlib.pyplot as plt\n",
    "import numpy as np\n",
    "import seaborn as sns\n",
    "\n",
    "from sklearn import datasets\n",
    "from sklearn.model_selection import train_test_split\n",
    "from sklearn.neighbors import KNeighborsClassifier\n",
    "from sklearn import metrics\n",
    "from sklearn import svm\n",
    "from sklearn.naive_bayes import GaussianNB\n",
    "from sklearn.metrics import confusion_matrix\n",
    "\n",
    "%matplotlib inline"
   ]
  },
  {
   "cell_type": "code",
   "execution_count": 22,
   "metadata": {
    "collapsed": true
   },
   "outputs": [],
   "source": [
    "# Loading dataset\n",
    "digits = datasets.load_digits()\n",
    "\n",
    "# Splitting the dataset\n",
    "x = digits.data\n",
    "y = digits.target\n",
    "\n",
    "x_train, x_test, y_train, y_test = train_test_split(x, y, test_size = 0.2)"
   ]
  },
  {
   "cell_type": "markdown",
   "metadata": {},
   "source": [
    "## k-Nearest Neighbors\n",
    "* Implement kNN classification for the above dataset\n",
    "* Compute and plot the accuracy scores by k values.\n",
    "* Make conclusions about which k is the best."
   ]
  },
  {
   "cell_type": "code",
   "execution_count": 23,
   "metadata": {
    "collapsed": true
   },
   "outputs": [],
   "source": [
    "knn = KNeighborsClassifier(n_neighbors=3) # We will later prove 3 is the optimal number of neighbours\n",
    "\n",
    "# Training the model\n",
    "knn.fit(x_train, y_train)\n",
    "\n",
    "# Making a prediction based on test data\n",
    "y_pred = knn.predict(x_test)\n",
    "\n",
    "# Calculate accuracy\n",
    "knn_accuracy = metrics.accuracy_score(y_test, y_pred)"
   ]
  },
  {
   "cell_type": "code",
   "execution_count": 24,
   "metadata": {
    "collapsed": true
   },
   "outputs": [],
   "source": [
    "# Finding optimal k\n",
    "neighbours = [1, 2, 3, 4, 5, 6, 7, 8]\n",
    "train_accuracy = []\n",
    "test_accuracy = []\n",
    "\n",
    "# i = current iteration\n",
    "# k = neighbours[i]\n",
    "for i, k in enumerate(neighbours):\n",
    "    \n",
    "    # Setup KNN Classifier\n",
    "    knn = KNeighborsClassifier(n_neighbors=k)\n",
    "    \n",
    "    # Fit the model\n",
    "    knn.fit(x_train, y_train)\n",
    "    \n",
    "    # Get train and test score\n",
    "    train_acc = knn.score(x_train, y_train)\n",
    "    test_acc = knn.score(x_test, y_test)\n",
    "    \n",
    "    # Copy the scores into arrays\n",
    "    train_accuracy.append(train_acc)\n",
    "    test_accuracy.append(test_acc)"
   ]
  },
  {
   "cell_type": "code",
   "execution_count": 25,
   "metadata": {},
   "outputs": [
    {
     "data": {
      "image/png": "[encoded data removed]",
      "text/plain": [
       "<matplotlib.figure.Figure at 0x2c66eeb00b8>"
      ]
     },
     "metadata": {},
     "output_type": "display_data"
    }
   ],
   "source": [
    "plt.plot(train_accuracy, label=\"Training Accuracy\")\n",
    "plt.plot(test_accuracy, label=\"Testing Accuracy\")\n",
    "\n",
    "plt.ylabel('Accuracy')\n",
    "plt.xlabel('Number of Neighbours')\n",
    "plt.title(\"k-NN: Varying Number of Neighbours\")\n",
    "plt.legend()\n",
    "\n",
    "plt.show()"
   ]
  },
  {
   "cell_type": "markdown",
   "metadata": {
    "collapsed": true
   },
   "source": [
    "<b>Conclusion:</b> It appears that the optimal k-neighbour value is 3. <b><font color='red'>Strangely, this model sometimes changes? I got it to match the workshop example at one point but each time I load it, it changes.</font></b>"
   ]
  },
  {
   "cell_type": "markdown",
   "metadata": {},
   "source": [
    "## Support Vector Machine\n",
    "* Implement SVM classifier for MNIST dataset.\n",
    "* Compute and compare the accuracy scores for at least 3 different kernels by using metrics.classification_report.\n",
    "* Make conclusion about which kernel should be used in this case."
   ]
  },
  {
   "cell_type": "code",
   "execution_count": 26,
   "metadata": {
    "scrolled": false
   },
   "outputs": [
    {
     "name": "stdout",
     "output_type": "stream",
     "text": [
      "             precision    recall  f1-score   support\n",
      "\n",
      "          0       1.00      1.00      1.00        36\n",
      "          1       1.00      1.00      1.00        40\n",
      "          2       1.00      1.00      1.00        39\n",
      "          3       1.00      1.00      1.00        41\n",
      "          4       1.00      0.95      0.97        38\n",
      "          5       1.00      1.00      1.00        27\n",
      "          6       1.00      1.00      1.00        47\n",
      "          7       1.00      1.00      1.00        28\n",
      "          8       0.97      0.97      0.97        32\n",
      "          9       0.94      1.00      0.97        32\n",
      "\n",
      "avg / total       0.99      0.99      0.99       360\n",
      "\n"
     ]
    }
   ],
   "source": [
    "# Creating an SVM Classifier\n",
    "clf = svm.SVC(kernel='linear')\n",
    "\n",
    "# Train the model\n",
    "clf.fit(x_train, y_train)\n",
    "\n",
    "# Predicting response\n",
    "y_pred_svm = clf.predict(x_test)\n",
    "\n",
    "# Calculate accuracy\n",
    "svm_accuracy = metrics.accuracy_score(y_test, y_pred_svm)\n",
    "\n",
    "# Classification report\n",
    "print(metrics.classification_report(y_test, y_pred_svm))"
   ]
  },
  {
   "cell_type": "markdown",
   "metadata": {},
   "source": [
    "<b>Which kernal should be used?</b>\n",
    "\n",
    "* (Precision): Of all records that were labelled X by the model, --- % were actually X.\n",
    "* (Recall): Of all records that were truly labelled X we predicted --- %\n",
    "* (f1-score): The balanced score between precision and recall.\n",
    "\n",
    "It appears that all kernals are equally the most balanced and promising scores, as they all have a precision, recall, and f1-score of 100%.  <b><font color='red'>Strangely, this also seems to change depending on when I load it.</font></b>\n",
    "\n",
    "\n"
   ]
  },
  {
   "cell_type": "markdown",
   "metadata": {
    "collapsed": true
   },
   "source": [
    "## Naïve Bayes\n",
    "* Compute the accuracy scores and plot the confusion matrix of the same dataset using Naïve Bayes classifier.\n",
    "* Compare the accuracy of different classifiers in the same plot."
   ]
  },
  {
   "cell_type": "code",
   "execution_count": 27,
   "metadata": {
    "collapsed": true
   },
   "outputs": [],
   "source": [
    "# Creating a classifier\n",
    "gnb = GaussianNB()\n",
    "\n",
    "# Training the model\n",
    "gnb.fit(x_train, y_train)\n",
    "\n",
    "# Predicting the response\n",
    "y_pred = gnb.predict(x_test)\n",
    "\n",
    "# Calculating accuracy\n",
    "nb_accuracy = metrics.accuracy_score(y_test, y_pred)"
   ]
  },
  {
   "cell_type": "code",
   "execution_count": 28,
   "metadata": {
    "scrolled": false
   },
   "outputs": [
    {
     "data": {
      "image/png": "[encoded data removed]",
      "text/plain": [
       "<matplotlib.figure.Figure at 0x2c66f3bb588>"
      ]
     },
     "metadata": {},
     "output_type": "display_data"
    }
   ],
   "source": [
    "# Plotting as heatmap\n",
    "fig, ax = plt.subplots(figsize=(10,10))\n",
    "sns.heatmap(confusion_matrix(y_test, y_pred), annot=True, ax=ax)\n",
    "plt.ylabel('True label')\n",
    "plt.xlabel('Predicted label')\n",
    "plt.show()"
   ]
  },
  {
   "cell_type": "code",
   "execution_count": 29,
   "metadata": {},
   "outputs": [
    {
     "name": "stdout",
     "output_type": "stream",
     "text": [
      "Model Accuracy:\n",
      "KNN: 0.991666666667\n",
      "SVM: 0.991666666667\n",
      "NB:  0.85\n"
     ]
    }
   ],
   "source": [
    "print(\"Model Accuracy:\")\n",
    "print(\"KNN:\", knn_accuracy)\n",
    "print(\"SVM:\", svm_accuracy)\n",
    "print(\"NB: \", nb_accuracy)"
   ]
  },
  {
   "cell_type": "code",
   "execution_count": 30,
   "metadata": {},
   "outputs": [
    {
     "data": {
      "image/png": "[encoded data removed]",
      "text/plain": [
       "<matplotlib.figure.Figure at 0x2c66edf4080>"
      ]
     },
     "metadata": {},
     "output_type": "display_data"
    }
   ],
   "source": [
    "# Graphing the model accuracy\n",
    "objects = ('KNN', 'SVM', 'Bayes')\n",
    "y_pos = np.arange(len(objects))\n",
    "performance = [knn_accuracy, svm_accuracy, nb_accuracy]\n",
    "\n",
    "plt.bar(y_pos, performance, align='center', alpha=0.5)\n",
    "plt.xticks(y_pos, objects)\n",
    "plt.ylabel('Accuracy')\n",
    "plt.xlabel('Classifier')\n",
    "plt.title('Model Accuracy')\n",
    "\n",
    "plt.show()"
   ]
  },
  {
   "cell_type": "markdown",
   "metadata": {},
   "source": [
    "<b>Conclusion:</b> It appears that the K-NN classifier is the most accurate."
   ]
  }
 ],
 "metadata": {
  "kernelspec": {
   "display_name": "Python 3",
   "language": "python",
   "name": "python3"
  },
  "language_info": {
   "codemirror_mode": {
    "name": "ipython",
    "version": 3
   },
   "file_extension": ".py",
   "mimetype": "text/x-python",
   "name": "python",
   "nbconvert_exporter": "python",
   "pygments_lexer": "ipython3",
   "version": "3.6.2"
  }
 },
 "nbformat": 4,
 "nbformat_minor": 2
}
