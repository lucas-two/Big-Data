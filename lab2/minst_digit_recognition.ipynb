{
 "cells": [
  {
   "cell_type": "markdown",
   "metadata": {},
   "source": [
    "# MINST Digit Recognition Data"
   ]
  },
  {
   "cell_type": "code",
   "execution_count": 90,
   "metadata": {
    "collapsed": true
   },
   "outputs": [],
   "source": [
    "from sklearn import datasets\n",
    "import matplotlib.pyplot as plt\n",
    "%matplotlib inline\n",
    "\n",
    "digits = datasets.load_digits()"
   ]
  },
  {
   "cell_type": "code",
   "execution_count": 73,
   "metadata": {
    "collapsed": true
   },
   "outputs": [],
   "source": [
    "# Splitting the dataset\n",
    "\n",
    "from sklearn.model_selection import train_test_split\n",
    "import numpy as np\n",
    "\n",
    "x = digits.data\n",
    "y = digits.target\n",
    "\n",
    "x_train, x_test, y_train, y_test = train_test_split(x, y, test_size = 0.2)"
   ]
  },
  {
   "cell_type": "markdown",
   "metadata": {},
   "source": [
    "## k-Nearest Neighbors"
   ]
  },
  {
   "cell_type": "code",
   "execution_count": 87,
   "metadata": {},
   "outputs": [
    {
     "name": "stdout",
     "output_type": "stream",
     "text": [
      "k-NN Accuracy: 0.986111111111\n"
     ]
    }
   ],
   "source": [
    "from sklearn.neighbors import KNeighborsClassifier\n",
    "from sklearn import metrics\n",
    "\n",
    "knn = KNeighborsClassifier(n_neighbors=4)\n",
    "\n",
    "# Training the model\n",
    "knn.fit(x_train, y_train)\n",
    "\n",
    "# Making a prediction based on test data\n",
    "y_pred = knn.predict(x_test)\n",
    "\n",
    "knn_accuracy = metrics.accuracy_score(y_test, y_pred)\n",
    "\n",
    "print(\"k-NN Accuracy:\", knn_accuracy)"
   ]
  },
  {
   "cell_type": "code",
   "execution_count": 88,
   "metadata": {},
   "outputs": [],
   "source": [
    "# Finding optimal k\n",
    "\n",
    "neighbours = [1, 2, 3, 4, 5, 6, 7, 8]\n",
    "train_accuracy = []\n",
    "test_accuracy = []\n",
    "\n",
    "# i = current iteration\n",
    "# k = neighbours[i]\n",
    "for i, k in enumerate(neighbours):\n",
    "    \n",
    "    # Setup KNN Classifier\n",
    "    knn = KNeighborsClassifier(n_neighbors=k)\n",
    "    \n",
    "    # Fit the model\n",
    "    knn.fit(x_train, y_train)\n",
    "    \n",
    "    # Get train and test score\n",
    "    train_acc = knn.score(x_train, y_train)\n",
    "    test_acc = knn.score(x_test, y_test)\n",
    "    \n",
    "    # Copy the scores into arrays\n",
    "    train_accuracy.append(train_acc)\n",
    "    test_accuracy.append(test_acc)"
   ]
  },
  {
   "cell_type": "code",
   "execution_count": 91,
   "metadata": {},
   "outputs": [
    {
     "data": {
      "image/png": "[encoded data removed]",
      "text/plain": [
       "<matplotlib.figure.Figure at 0x1c11f1a2048>"
      ]
     },
     "metadata": {},
     "output_type": "display_data"
    }
   ],
   "source": [
    "plt.plot(train_accuracy, label=\"Training Accuracy\")\n",
    "plt.plot(test_accuracy, label=\"Testing Accuracy\")\n",
    "\n",
    "plt.ylabel('Accuracy')\n",
    "plt.xlabel('Number of Neighbours')\n",
    "plt.title(\"k-NN: Varying Number of Neighbours\")\n",
    "plt.legend()\n",
    "\n",
    "plt.show()"
   ]
  },
  {
   "cell_type": "markdown",
   "metadata": {
    "collapsed": true
   },
   "source": [
    "<b>Conclusion:</b> It appears that the optimal k-neighbour value is 2.\n",
    "<b><font color = 'red'>\n",
    "ERROR: It seems like this is still randomly changing itself?</font></b>"
   ]
  },
  {
   "cell_type": "markdown",
   "metadata": {},
   "source": [
    "## Support Vector Machine"
   ]
  },
  {
   "cell_type": "code",
   "execution_count": 92,
   "metadata": {
    "scrolled": false
   },
   "outputs": [
    {
     "name": "stdout",
     "output_type": "stream",
     "text": [
      "SVM Accuracy: 0.986111111111\n",
      "             precision    recall  f1-score   support\n",
      "\n",
      "          0       1.00      1.00      1.00        38\n",
      "          1       1.00      1.00      1.00        38\n",
      "          2       0.97      1.00      0.99        38\n",
      "          3       1.00      1.00      1.00        33\n",
      "          4       1.00      1.00      1.00        37\n",
      "          5       0.97      0.95      0.96        37\n",
      "          6       1.00      1.00      1.00        33\n",
      "          7       0.98      1.00      0.99        42\n",
      "          8       0.97      0.97      0.97        32\n",
      "          9       0.97      0.94      0.95        32\n",
      "\n",
      "avg / total       0.99      0.99      0.99       360\n",
      "\n"
     ]
    }
   ],
   "source": [
    "from sklearn import svm\n",
    "from sklearn import metrics\n",
    "\n",
    "# Creating an SVM Classifier\n",
    "clf = svm.SVC(kernel='linear')\n",
    "\n",
    "# Train the model\n",
    "clf.fit(x_train, y_train)\n",
    "\n",
    "# Predicting response\n",
    "y_pred_svm = clf.predict(x_test)\n",
    "\n",
    "svm_accuracy = metrics.accuracy_score(y_test, y_pred_svm)\n",
    "\n",
    "print(\"SVM Accuracy:\", svm_accuracy)\n",
    "\n",
    "print(metrics.classification_report(y_test, y_pred_svm))"
   ]
  },
  {
   "cell_type": "markdown",
   "metadata": {},
   "source": [
    "<b>Which kernal should be used?</b>\n",
    "\n",
    "* (Precision): Of all records that were labelled X by the model, --- % were actually X.\n",
    "\n",
    "* (Recall): Of all records that were truly labelled X we predicted --- %\n",
    "\n",
    "* (f1-score): The balanced score between precision and recall.\n",
    "\n",
    "It appears that kernal 0, 1, 3, 4, 6 are equally the most balanced and promising scores, as they both have a precision, recall, and f1-score of 100%.\n",
    "\n",
    "\n"
   ]
  },
  {
   "cell_type": "markdown",
   "metadata": {
    "collapsed": true
   },
   "source": [
    "## Naïve Bayes"
   ]
  },
  {
   "cell_type": "code",
   "execution_count": 78,
   "metadata": {},
   "outputs": [
    {
     "name": "stdout",
     "output_type": "stream",
     "text": [
      "NB Accuracy: 0.875\n"
     ]
    }
   ],
   "source": [
    "from sklearn.naive_bayes import GaussianNB\n",
    "\n",
    "gnb = GaussianNB()\n",
    "\n",
    "gnb.fit(x_train, y_train)\n",
    "\n",
    "y_pred = gnb.predict(x_test)\n",
    "\n",
    "nb_accuracy = metrics.accuracy_score(y_test, y_pred)\n",
    "\n",
    "print(\"NB Accuracy:\", nb_accuracy)"
   ]
  },
  {
   "cell_type": "code",
   "execution_count": 93,
   "metadata": {
    "scrolled": false
   },
   "outputs": [
    {
     "data": {
      "image/png": "[encoded data removed]",
      "text/plain": [
       "<matplotlib.figure.Figure at 0x1c11f1a2438>"
      ]
     },
     "metadata": {},
     "output_type": "display_data"
    }
   ],
   "source": [
    "from sklearn.metrics import confusion_matrix\n",
    "import seaborn as sns\n",
    "\n",
    "fig, ax = plt.subplots(figsize=(10,10))\n",
    "sns.heatmap(confusion_matrix(y_test, y_pred), annot=True, ax=ax)\n",
    "plt.ylabel('True label')\n",
    "plt.xlabel('Predicted label')\n",
    "plt.show()"
   ]
  },
  {
   "cell_type": "markdown",
   "metadata": {},
   "source": [
    "## Accuracy of Models"
   ]
  },
  {
   "cell_type": "code",
   "execution_count": 80,
   "metadata": {},
   "outputs": [
    {
     "name": "stdout",
     "output_type": "stream",
     "text": [
      "KNN: 0.986111111111\n",
      "SVM: 0.986111111111\n",
      "NB:  0.875\n"
     ]
    }
   ],
   "source": [
    "print(\"KNN:\", knn_accuracy)\n",
    "print(\"SVM:\", svm_accuracy)\n",
    "print(\"NB: \", nb_accuracy)"
   ]
  },
  {
   "cell_type": "code",
   "execution_count": 81,
   "metadata": {},
   "outputs": [
    {
     "data": {
      "image/png": "[encoded data removed]",
      "text/plain": [
       "<matplotlib.figure.Figure at 0x1c11ee74160>"
      ]
     },
     "metadata": {},
     "output_type": "display_data"
    }
   ],
   "source": [
    "import numpy as np\n",
    "\n",
    "objects = ('KNN', 'SVM', 'Bayes')\n",
    "y_pos = np.arange(len(objects))\n",
    "performance = [knn_accuracy, svm_accuracy, nb_accuracy]\n",
    "\n",
    "plt.bar(y_pos, performance, align='center', alpha=0.5)\n",
    "plt.xticks(y_pos, objects)\n",
    "plt.ylabel('Accuracy')\n",
    "plt.xlabel('Classifier')\n",
    "plt.title('Model Accuracy')\n",
    "\n",
    "plt.show()"
   ]
  },
  {
   "cell_type": "markdown",
   "metadata": {},
   "source": [
    "<b>Conclusion:</b> It appears that the K-NN classifier is the most accurate."
   ]
  }
 ],
 "metadata": {
  "kernelspec": {
   "display_name": "Python 3",
   "language": "python",
   "name": "python3"
  },
  "language_info": {
   "codemirror_mode": {
    "name": "ipython",
    "version": 3
   },
   "file_extension": ".py",
   "mimetype": "text/x-python",
   "name": "python",
   "nbconvert_exporter": "python",
   "pygments_lexer": "ipython3",
   "version": "3.6.2"
  }
 },
 "nbformat": 4,
 "nbformat_minor": 2
}
